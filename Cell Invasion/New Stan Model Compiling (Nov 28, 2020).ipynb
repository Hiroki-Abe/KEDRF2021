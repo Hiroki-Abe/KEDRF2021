{
 "cells": [
  {
   "cell_type": "code",
   "execution_count": 1,
   "metadata": {},
   "outputs": [],
   "source": [
    "%matplotlib inline\n",
    "\n",
    "import pystan \n",
    "import pickle\n",
    "\n",
    "#Stan fitting\n"
   ]
  },
  {
   "cell_type": "code",
   "execution_count": 2,
   "metadata": {
    "scrolled": true
   },
   "outputs": [
    {
     "name": "stderr",
     "output_type": "stream",
     "text": [
      "INFO:pystan:COMPILING THE C++ CODE FOR MODEL anon_model_9981b91acc61f17b4ba9e6690c401580 NOW.\n"
     ]
    }
   ],
   "source": [
    "model = \"\"\"\n",
    "data {\n",
    "    int<lower=0> n;\n",
    "    real<lower=0> V;\n",
    "    real<lower=0> S;\n",
    "    vector[n] t;\n",
    "    vector[n] LogN;\n",
    "    vector[n] LogNdose;\n",
    "}\n",
    "\n",
    "transformed data{\n",
    "    vector[n] Ndose;\n",
    "    for (i in 1:n){\n",
    "        Ndose[i] = 10^LogNdose[i];\n",
    "    }\n",
    "}\n",
    "\n",
    "parameters { \n",
    "    real<lower=0, upper= 10> LogNmax; \n",
    "    real<lower=-10, upper= 0> Logmu; \n",
    "    real<lower=0> sigma;\n",
    "}\n",
    "\n",
    "transformed parameters {\n",
    "    vector[n] LogPredicted;\n",
    "    real<lower=0> mu;\n",
    "    real<lower=0> Nmax;\n",
    "    mu = 10^Logmu;\n",
    "    Nmax = 10^LogNmax;\n",
    "    for (i in 1:n){\n",
    "        LogPredicted[i] = log10(V*Ndose[i]*Nmax*S*(exp(mu*Ndose[i]*t[i])-exp(mu*Nmax*S*t[i]/V))/(V*Ndose[i]*exp(mu*Ndose[i]*t[i])-Nmax*S*exp(mu*Nmax*S*t[i]/V)));\n",
    "    }\n",
    "}\n",
    "\n",
    "model {\n",
    "    for (i in 1:n){\n",
    "        LogN[i] ~ normal(LogPredicted[i], sigma);\n",
    "    }\n",
    "}\n",
    "\"\"\"\n",
    "sm = pystan.StanModel(model_code=model)\n",
    "\n",
    "with open('new stan model.pkl', 'wb') as f:\n",
    "\n",
    "    pickle.dump(sm, f)"
   ]
  },
  {
   "cell_type": "code",
   "execution_count": null,
   "metadata": {},
   "outputs": [],
   "source": []
  }
 ],
 "metadata": {
  "kernelspec": {
   "display_name": "Python 3",
   "language": "python",
   "name": "python3"
  },
  "language_info": {
   "codemirror_mode": {
    "name": "ipython",
    "version": 3
   },
   "file_extension": ".py",
   "mimetype": "text/x-python",
   "name": "python",
   "nbconvert_exporter": "python",
   "pygments_lexer": "ipython3",
   "version": "3.7.7"
  }
 },
 "nbformat": 4,
 "nbformat_minor": 4
}
